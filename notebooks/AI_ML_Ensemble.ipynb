{
 "cells": [
  {
   "cell_type": "code",
   "outputs": [],
   "source": [
    "from classes.openai_wrapper import OpenAIWrapper\n",
    "from classes.process_data import PrepData\n",
    "from classes.rf_regression_optimized import RandomForestRegression\n",
    "from classes.tune_model import TuneModel\n",
    "from classes.iterate_model import IterateModel\n",
    "\n",
    "from dotenv import load_dotenv\n",
    "import pandas as pd\n",
    "import logging\n",
    "import ast\n",
    "import os\n",
    "\n",
    "load_dotenv()\n",
    "\n",
    "logging.basicConfig(level=logging.INFO)\n",
    "logger = logging.getLogger(__name__)\n",
    "\n",
    "\n",
    "# Initiate OpenAI Wrapper Class\n",
    "openai_key = os.getenv(\"OPENAI_API_KEY\")\n",
    "\n",
    "openai_wrapper = OpenAIWrapper(openai_key)\n",
    "\n",
    "\n",
    "# Preprocess the dataset based on AI evaluation\n",
    "dataset = pd.read_csv('../data/Advertising Budget and Sales.csv')\n",
    "\n",
    "prompt_docs = \"../docs/RandomForestRegressorDocs.txt\"\n",
    "performance_tracking_file = \"../docs/PerformanceTracking.json\"\n",
    "\n",
    "data_prepper = PrepData(dataset, openai_wrapper, performance_tracking_file)\n",
    "X, y, label_encoders = data_prepper.preprocess_dataset()\n",
    "\n",
    "\n",
    "# Perform Random Forest Regression\n",
    "rf_regressor = RandomForestRegression(\n",
    "    X=X, \n",
    "    y=y, \n",
    "    label_encoders=label_encoders\n",
    "    )\n",
    "\n",
    "# First round model results:\n",
    "mse, r2, accuracy, test_size, model_params, feature_importance = rf_regressor.rf_regression()\n",
    "\n",
    "# Instantiate class for AI-driven model tuning\n",
    "model_iterator = IterateModel(label_encoders=label_encoders, desired_accuracy=94.5, run_threshold=10, tuner=TuneModel(openai_wrapper, prompt_docs), performance_tracking_file=performance_tracking_file)\n",
    "\n",
    "model_iterator.iterate_model(X, y, mse, r2, accuracy, test_size, model_params, feature_importance)"
   ],
   "metadata": {
    "collapsed": false
   },
   "execution_count": null
  }
 ],
 "metadata": {
  "application/vnd.databricks.v1+notebook": {
   "dashboards": [],
   "environmentMetadata": null,
   "language": "python",
   "notebookMetadata": {
    "pythonIndentUnit": 4
   },
   "notebookName": "AI_ML_Ensemble",
   "widgets": {}
  },
  "kernelspec": {
   "name": "python3",
   "language": "python",
   "display_name": "Python 3 (ipykernel)"
  }
 },
 "nbformat": 4,
 "nbformat_minor": 0
}
